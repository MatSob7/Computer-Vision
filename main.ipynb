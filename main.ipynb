{
 "cells": [
  {
   "cell_type": "code",
   "execution_count": 6,
   "metadata": {},
   "outputs": [
    {
     "data": {
      "text/plain": [
       "True"
      ]
     },
     "execution_count": 6,
     "metadata": {},
     "output_type": "execute_result"
    }
   ],
   "source": [
    "import cv2\n",
    "import numpy\n",
    "\n",
    "def bilateral( img_in, sigma_s, sigma_v, reg_constant=1e-8 ):\n",
    "\n",
    "    gauss = lambda r2, sigma: (numpy.exp( -0.5*r2/sigma**2 )*3).astype(int)*1.0/3.0\n",
    "\n",
    "    width = int( 3*sigma_s+1 )\n",
    "\n",
    "    wsum = numpy.ones( img_in.shape )*reg_constant\n",
    "    result  = img_in*reg_constant\n",
    "\n",
    "    for shift_x in range(-width,width+1):\n",
    "        for shift_y in range(-width,width+1):\n",
    "\n",
    "            w = gauss( shift_x**2+shift_y**2, sigma_s )\n",
    "\n",
    "            off = numpy.roll(img_in, [shift_y, shift_x], axis=[0,1] )\n",
    "\n",
    "            fin = w*gauss( (off-img_in)**2, sigma_v )\n",
    "\n",
    "            result += off*fin\n",
    "            wsum += fin\n",
    "\n",
    "    return result/wsum\n",
    "\n",
    "I = cv2.imread('images/lena.png', cv2.IMREAD_UNCHANGED ).astype(numpy.float32)/255.0\n",
    "\n",
    "B = numpy.stack([\n",
    "        bilateral( I[:,:,0], 10.0, 0.2 ),\n",
    "        bilateral( I[:,:,1], 10.0, 0.2 ),\n",
    "        bilateral( I[:,:,2], 10.0, 0.2 )], axis=2 )\n",
    "\n",
    "O = numpy.hstack( [I,B] )\n",
    "\n",
    "cv2.imwrite( 'images/bilateral2.png', O*255.0 )"
   ]
  },
  {
   "cell_type": "code",
   "execution_count": null,
   "metadata": {},
   "outputs": [],
   "source": []
  },
  {
   "cell_type": "code",
   "execution_count": null,
   "metadata": {},
   "outputs": [],
   "source": []
  }
 ],
 "metadata": {
  "kernelspec": {
   "display_name": "Python 3",
   "language": "python",
   "name": "python3"
  },
  "language_info": {
   "codemirror_mode": {
    "name": "ipython",
    "version": 3
   },
   "file_extension": ".py",
   "mimetype": "text/x-python",
   "name": "python",
   "nbconvert_exporter": "python",
   "pygments_lexer": "ipython3",
   "version": "3.8.3"
  }
 },
 "nbformat": 4,
 "nbformat_minor": 4
}
